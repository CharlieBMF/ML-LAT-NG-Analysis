{
 "cells": [
  {
   "cell_type": "code",
   "execution_count": 11,
   "metadata": {
    "collapsed": true
   },
   "outputs": [],
   "source": [
    "import pandas as pd\n",
    "import numpy as np\n",
    "from sklearn.preprocessing import StandardScaler\n",
    "from sklearn.model_selection import train_test_split, GridSearchCV\n",
    "from sklearn.svm import SVC\n",
    "from sklearn.metrics import confusion_matrix, accuracy_score"
   ]
  },
  {
   "cell_type": "code",
   "execution_count": 2,
   "outputs": [],
   "source": [
    "'''DATA LOAD'''\n",
    "df = pd.read_excel('Final_data_binary.xlsx', sheet_name='AIN')\n",
    "X = df.drop('ocena', axis=1)\n",
    "y = np.array(df['ocena'])\n",
    "X_train, X_test, y_train, y_test = train_test_split(X, y, test_size=0.2, random_state=101)"
   ],
   "metadata": {
    "collapsed": false
   }
  },
  {
   "cell_type": "code",
   "execution_count": 3,
   "outputs": [],
   "source": [
    "'''SCALING'''\n",
    "sc = StandardScaler()\n",
    "X_train = sc.fit_transform(X_train)\n",
    "X_test = sc.transform(X_test)"
   ],
   "metadata": {
    "collapsed": false
   }
  },
  {
   "cell_type": "code",
   "execution_count": 8,
   "outputs": [
    {
     "name": "stdout",
     "output_type": "stream",
     "text": [
      "Best accuracy: 84.80872677825104\n",
      "Best parameters: {'C': 1e-05, 'kernel': 'linear'}\n"
     ]
    }
   ],
   "source": [
    "svm = SVC(random_state=0)\n",
    "'''GridSearch for best parameters'''\n",
    "parameters = [{'C': [1e-5, 1e-4, 1e-3, 1e-2, 1e-1, 1, 10, 100], 'kernel': ['linear']}]\n",
    "grid_search = GridSearchCV(estimator=svm, param_grid=parameters, scoring='accuracy', cv=10, n_jobs=-1)\n",
    "grid_search.fit(X_train, y_train)\n",
    "best_accuracy = grid_search.best_score_\n",
    "best_parameters = grid_search.best_params_\n",
    "print(f'Best accuracy: {best_accuracy*100}')\n",
    "print(f'Best parameters: {best_parameters}')"
   ],
   "metadata": {
    "collapsed": false
   }
  },
  {
   "cell_type": "code",
   "execution_count": 9,
   "outputs": [],
   "source": [
    "'''SVM with linear kernel'''\n",
    "svm = SVC(C=1e-5, kernel='linear', random_state=0)\n",
    "svm.fit(X_train, y_train)\n",
    "predictions = svm.predict(X_test)"
   ],
   "metadata": {
    "collapsed": false
   }
  },
  {
   "cell_type": "code",
   "execution_count": 12,
   "outputs": [
    {
     "name": "stdout",
     "output_type": "stream",
     "text": [
      "Confusion matrix:\n",
      " [[   0  247]\n",
      " [   0 1335]]\n",
      "Accuracy score:  0.8438685208596713\n"
     ]
    }
   ],
   "source": [
    "'''Confusion Matrix'''\n",
    "cm = confusion_matrix(y_test, predictions)\n",
    "ac_s = accuracy_score(y_test, predictions)\n",
    "print('Confusion matrix:\\n', cm)\n",
    "print('Accuracy score: ', ac_s)"
   ],
   "metadata": {
    "collapsed": false
   }
  },
  {
   "cell_type": "code",
   "execution_count": null,
   "outputs": [],
   "source": [],
   "metadata": {
    "collapsed": false
   }
  }
 ],
 "metadata": {
  "kernelspec": {
   "display_name": "Python 3",
   "language": "python",
   "name": "python3"
  },
  "language_info": {
   "codemirror_mode": {
    "name": "ipython",
    "version": 2
   },
   "file_extension": ".py",
   "mimetype": "text/x-python",
   "name": "python",
   "nbconvert_exporter": "python",
   "pygments_lexer": "ipython2",
   "version": "2.7.6"
  }
 },
 "nbformat": 4,
 "nbformat_minor": 0
}
