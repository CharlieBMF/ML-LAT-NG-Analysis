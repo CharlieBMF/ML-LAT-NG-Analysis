{
 "cells": [
  {
   "cell_type": "code",
   "execution_count": 1,
   "metadata": {
    "collapsed": true
   },
   "outputs": [],
   "source": [
    "import pandas as pd\n",
    "import numpy as np\n",
    "from sklearn.preprocessing import StandardScaler\n",
    "from sklearn.model_selection import train_test_split\n",
    "from sklearn.metrics import confusion_matrix, accuracy_score\n",
    "import tensorflow as tf"
   ]
  },
  {
   "cell_type": "code",
   "execution_count": 44,
   "outputs": [],
   "source": [
    "'''DATA LOAD'''\n",
    "df = pd.read_excel('Final_data_binary.xlsx', sheet_name='AIN')\n",
    "X = df.drop('ocena', axis=1)\n",
    "y = np.array(df['ocena'])\n",
    "X_train, X_test, y_train, y_test = train_test_split(X, y, test_size=0.2, random_state=101)"
   ],
   "metadata": {
    "collapsed": false
   }
  },
  {
   "cell_type": "code",
   "execution_count": 45,
   "outputs": [],
   "source": [
    "'''SCALING'''\n",
    "sc = StandardScaler()\n",
    "X_train = sc.fit_transform(X_train)\n",
    "X_test = sc.transform(X_test)"
   ],
   "metadata": {
    "collapsed": false
   }
  },
  {
   "cell_type": "code",
   "execution_count": 46,
   "outputs": [],
   "source": [
    "'''Prepare model'''\n",
    "ann = tf.keras.models.Sequential()\n",
    "ann.add(tf.keras.layers.Dense(units=512, activation='relu'))\n",
    "ann.add(tf.keras.layers.Dense(units=248, activation='relu'))\n",
    "ann.add(tf.keras.layers.Dense(units=128, activation='relu'))\n",
    "ann.add(tf.keras.layers.Dense(units=64, activation='relu'))\n",
    "ann.add(tf.keras.layers.Dense(units=1, activation='sigmoid'))\n",
    "ann.compile(optimizer='adam', loss='binary_crossentropy', metrics=['accuracy'])"
   ],
   "metadata": {
    "collapsed": false
   }
  },
  {
   "cell_type": "code",
   "execution_count": 50,
   "outputs": [
    {
     "name": "stdout",
     "output_type": "stream",
     "text": [
      "Epoch 1/100\n",
      "198/198 [==============================] - 1s 6ms/step - loss: 0.1386 - accuracy: 0.9440\n",
      "Epoch 2/100\n",
      "198/198 [==============================] - 1s 5ms/step - loss: 0.1031 - accuracy: 0.9580\n",
      "Epoch 3/100\n",
      "198/198 [==============================] - 1s 4ms/step - loss: 0.0937 - accuracy: 0.9643\n",
      "Epoch 4/100\n",
      "198/198 [==============================] - 1s 4ms/step - loss: 0.0725 - accuracy: 0.9736\n",
      "Epoch 5/100\n",
      "198/198 [==============================] - 1s 4ms/step - loss: 0.0831 - accuracy: 0.9693\n",
      "Epoch 6/100\n",
      "198/198 [==============================] - 1s 5ms/step - loss: 0.0579 - accuracy: 0.9794\n",
      "Epoch 7/100\n",
      "198/198 [==============================] - 1s 4ms/step - loss: 0.0359 - accuracy: 0.9886\n",
      "Epoch 8/100\n",
      "198/198 [==============================] - 1s 4ms/step - loss: 0.0605 - accuracy: 0.9788\n",
      "Epoch 9/100\n",
      "198/198 [==============================] - 1s 4ms/step - loss: 0.0404 - accuracy: 0.9872\n",
      "Epoch 10/100\n",
      "198/198 [==============================] - 1s 5ms/step - loss: 0.0432 - accuracy: 0.9864\n",
      "Epoch 11/100\n",
      "198/198 [==============================] - 1s 5ms/step - loss: 0.0339 - accuracy: 0.9888\n",
      "Epoch 12/100\n",
      "198/198 [==============================] - 1s 5ms/step - loss: 0.0219 - accuracy: 0.9930\n",
      "Epoch 13/100\n",
      "198/198 [==============================] - 1s 4ms/step - loss: 0.0248 - accuracy: 0.9905\n",
      "Epoch 14/100\n",
      "198/198 [==============================] - 1s 4ms/step - loss: 0.0566 - accuracy: 0.9831\n",
      "Epoch 15/100\n",
      "198/198 [==============================] - 1s 4ms/step - loss: 0.0298 - accuracy: 0.9915\n",
      "Epoch 16/100\n",
      "198/198 [==============================] - 1s 5ms/step - loss: 0.0157 - accuracy: 0.9946\n",
      "Epoch 17/100\n",
      "198/198 [==============================] - 1s 5ms/step - loss: 0.0562 - accuracy: 0.9799\n",
      "Epoch 18/100\n",
      "198/198 [==============================] - 1s 5ms/step - loss: 0.0310 - accuracy: 0.9905\n",
      "Epoch 19/100\n",
      "198/198 [==============================] - 1s 5ms/step - loss: 0.0354 - accuracy: 0.9885\n",
      "Epoch 20/100\n",
      "198/198 [==============================] - 1s 5ms/step - loss: 0.0290 - accuracy: 0.9910\n",
      "Epoch 21/100\n",
      "198/198 [==============================] - 1s 5ms/step - loss: 0.0396 - accuracy: 0.9880\n",
      "Epoch 22/100\n",
      "198/198 [==============================] - 1s 4ms/step - loss: 0.0210 - accuracy: 0.9937\n",
      "Epoch 23/100\n",
      "198/198 [==============================] - 1s 4ms/step - loss: 0.0147 - accuracy: 0.9949\n",
      "Epoch 24/100\n",
      "198/198 [==============================] - 1s 4ms/step - loss: 0.0309 - accuracy: 0.9893\n",
      "Epoch 25/100\n",
      "198/198 [==============================] - 1s 5ms/step - loss: 0.0334 - accuracy: 0.9880\n",
      "Epoch 26/100\n",
      "198/198 [==============================] - 1s 5ms/step - loss: 0.0181 - accuracy: 0.9937\n",
      "Epoch 27/100\n",
      "198/198 [==============================] - 1s 5ms/step - loss: 0.0178 - accuracy: 0.9943\n",
      "Epoch 28/100\n",
      "198/198 [==============================] - 1s 5ms/step - loss: 0.0138 - accuracy: 0.9956\n",
      "Epoch 29/100\n",
      "198/198 [==============================] - 1s 5ms/step - loss: 0.0070 - accuracy: 0.9976\n",
      "Epoch 30/100\n",
      "198/198 [==============================] - 1s 5ms/step - loss: 0.0067 - accuracy: 0.9981\n",
      "Epoch 31/100\n",
      "198/198 [==============================] - 1s 5ms/step - loss: 0.0399 - accuracy: 0.9878\n",
      "Epoch 32/100\n",
      "198/198 [==============================] - 1s 5ms/step - loss: 0.0465 - accuracy: 0.9844\n",
      "Epoch 33/100\n",
      "198/198 [==============================] - 1s 5ms/step - loss: 0.0275 - accuracy: 0.9915\n",
      "Epoch 34/100\n",
      "198/198 [==============================] - 1s 5ms/step - loss: 0.0192 - accuracy: 0.9929\n",
      "Epoch 35/100\n",
      "198/198 [==============================] - 1s 5ms/step - loss: 0.0209 - accuracy: 0.9927\n",
      "Epoch 36/100\n",
      "198/198 [==============================] - 1s 5ms/step - loss: 0.0054 - accuracy: 0.9984\n",
      "Epoch 37/100\n",
      "198/198 [==============================] - 1s 5ms/step - loss: 0.0033 - accuracy: 0.9987\n",
      "Epoch 38/100\n",
      "198/198 [==============================] - 1s 5ms/step - loss: 0.0026 - accuracy: 0.9989\n",
      "Epoch 39/100\n",
      "198/198 [==============================] - 1s 5ms/step - loss: 0.0013 - accuracy: 0.9991\n",
      "Epoch 40/100\n",
      "198/198 [==============================] - 1s 5ms/step - loss: 0.0012 - accuracy: 0.9991\n",
      "Epoch 41/100\n",
      "198/198 [==============================] - 1s 5ms/step - loss: 0.0012 - accuracy: 0.9984\n",
      "Epoch 42/100\n",
      "198/198 [==============================] - 1s 5ms/step - loss: 0.0012 - accuracy: 0.9987\n",
      "Epoch 43/100\n",
      "198/198 [==============================] - 1s 5ms/step - loss: 0.0012 - accuracy: 0.9991\n",
      "Epoch 44/100\n",
      "198/198 [==============================] - 1s 5ms/step - loss: 0.0012 - accuracy: 0.9991\n",
      "Epoch 45/100\n",
      "198/198 [==============================] - 1s 5ms/step - loss: 0.0012 - accuracy: 0.9989\n",
      "Epoch 46/100\n",
      "198/198 [==============================] - 1s 5ms/step - loss: 0.0012 - accuracy: 0.9986\n",
      "Epoch 47/100\n",
      "198/198 [==============================] - 1s 5ms/step - loss: 0.0012 - accuracy: 0.9987\n",
      "Epoch 48/100\n",
      "198/198 [==============================] - 1s 5ms/step - loss: 0.0013 - accuracy: 0.9989\n",
      "Epoch 49/100\n",
      "198/198 [==============================] - 1s 5ms/step - loss: 0.0012 - accuracy: 0.9987\n",
      "Epoch 50/100\n",
      "198/198 [==============================] - 1s 5ms/step - loss: 0.0012 - accuracy: 0.9986\n",
      "Epoch 51/100\n",
      "198/198 [==============================] - 1s 4ms/step - loss: 0.0012 - accuracy: 0.9989\n",
      "Epoch 52/100\n",
      "198/198 [==============================] - 1s 5ms/step - loss: 0.0011 - accuracy: 0.9991\n",
      "Epoch 53/100\n",
      "198/198 [==============================] - 1s 5ms/step - loss: 0.0011 - accuracy: 0.9987\n",
      "Epoch 54/100\n",
      "198/198 [==============================] - 1s 5ms/step - loss: 0.0011 - accuracy: 0.9989\n",
      "Epoch 55/100\n",
      "198/198 [==============================] - 1s 5ms/step - loss: 0.0011 - accuracy: 0.9991\n",
      "Epoch 56/100\n",
      "198/198 [==============================] - 1s 4ms/step - loss: 0.0011 - accuracy: 0.9991\n",
      "Epoch 57/100\n",
      "198/198 [==============================] - 1s 5ms/step - loss: 0.0823 - accuracy: 0.9681\n",
      "Epoch 58/100\n",
      "198/198 [==============================] - 1s 5ms/step - loss: 0.1383 - accuracy: 0.9477\n",
      "Epoch 59/100\n",
      "198/198 [==============================] - 1s 5ms/step - loss: 0.0554 - accuracy: 0.9812\n",
      "Epoch 60/100\n",
      "198/198 [==============================] - 1s 5ms/step - loss: 0.0341 - accuracy: 0.9875\n",
      "Epoch 61/100\n",
      "198/198 [==============================] - 1s 4ms/step - loss: 0.0289 - accuracy: 0.9923\n",
      "Epoch 62/100\n",
      "198/198 [==============================] - 1s 5ms/step - loss: 0.0178 - accuracy: 0.9942\n",
      "Epoch 63/100\n",
      "198/198 [==============================] - 1s 5ms/step - loss: 0.0186 - accuracy: 0.9951\n",
      "Epoch 64/100\n",
      "198/198 [==============================] - 1s 5ms/step - loss: 0.0157 - accuracy: 0.9954\n",
      "Epoch 65/100\n",
      "198/198 [==============================] - 1s 5ms/step - loss: 0.0189 - accuracy: 0.9942\n",
      "Epoch 66/100\n",
      "198/198 [==============================] - 1s 5ms/step - loss: 0.0301 - accuracy: 0.9904\n",
      "Epoch 67/100\n",
      "198/198 [==============================] - 1s 5ms/step - loss: 0.0248 - accuracy: 0.9932\n",
      "Epoch 68/100\n",
      "198/198 [==============================] - 1s 5ms/step - loss: 0.0074 - accuracy: 0.9978\n",
      "Epoch 69/100\n",
      "198/198 [==============================] - 1s 5ms/step - loss: 0.0047 - accuracy: 0.9981\n",
      "Epoch 70/100\n",
      "198/198 [==============================] - 1s 4ms/step - loss: 0.0152 - accuracy: 0.9970\n",
      "Epoch 71/100\n",
      "198/198 [==============================] - 1s 5ms/step - loss: 0.0118 - accuracy: 0.9954\n",
      "Epoch 72/100\n",
      "198/198 [==============================] - 1s 4ms/step - loss: 0.0123 - accuracy: 0.9957\n",
      "Epoch 73/100\n",
      "198/198 [==============================] - 1s 5ms/step - loss: 0.0183 - accuracy: 0.9942\n",
      "Epoch 74/100\n",
      "198/198 [==============================] - 1s 5ms/step - loss: 0.0038 - accuracy: 0.9984\n",
      "Epoch 75/100\n",
      "198/198 [==============================] - 1s 5ms/step - loss: 0.0039 - accuracy: 0.9986\n",
      "Epoch 76/100\n",
      "198/198 [==============================] - 1s 5ms/step - loss: 0.0060 - accuracy: 0.9978\n",
      "Epoch 77/100\n",
      "198/198 [==============================] - 1s 4ms/step - loss: 0.0202 - accuracy: 0.9943\n",
      "Epoch 78/100\n",
      "198/198 [==============================] - 1s 5ms/step - loss: 0.0216 - accuracy: 0.9934\n",
      "Epoch 79/100\n",
      "198/198 [==============================] - 1s 5ms/step - loss: 0.0281 - accuracy: 0.9919\n",
      "Epoch 80/100\n",
      "198/198 [==============================] - 1s 5ms/step - loss: 0.0117 - accuracy: 0.9972\n",
      "Epoch 81/100\n",
      "198/198 [==============================] - 1s 5ms/step - loss: 0.0164 - accuracy: 0.9953\n",
      "Epoch 82/100\n",
      "198/198 [==============================] - 1s 4ms/step - loss: 0.0169 - accuracy: 0.9948\n",
      "Epoch 83/100\n",
      "198/198 [==============================] - 1s 5ms/step - loss: 0.0107 - accuracy: 0.9970\n",
      "Epoch 84/100\n",
      "198/198 [==============================] - 1s 4ms/step - loss: 0.0062 - accuracy: 0.9973\n",
      "Epoch 85/100\n",
      "198/198 [==============================] - 1s 5ms/step - loss: 0.0130 - accuracy: 0.9967\n",
      "Epoch 86/100\n",
      "198/198 [==============================] - 1s 4ms/step - loss: 0.0017 - accuracy: 0.9989\n",
      "Epoch 87/100\n",
      "198/198 [==============================] - 1s 5ms/step - loss: 0.0012 - accuracy: 0.9991\n",
      "Epoch 88/100\n",
      "198/198 [==============================] - 1s 5ms/step - loss: 0.0012 - accuracy: 0.9991\n",
      "Epoch 89/100\n",
      "198/198 [==============================] - 1s 5ms/step - loss: 0.0012 - accuracy: 0.9989\n",
      "Epoch 90/100\n",
      "198/198 [==============================] - 1s 5ms/step - loss: 0.0011 - accuracy: 0.9992\n",
      "Epoch 91/100\n",
      "198/198 [==============================] - 1s 4ms/step - loss: 0.0011 - accuracy: 0.9989\n",
      "Epoch 92/100\n",
      "198/198 [==============================] - 1s 5ms/step - loss: 0.0011 - accuracy: 0.9991\n",
      "Epoch 93/100\n",
      "198/198 [==============================] - 1s 5ms/step - loss: 0.0011 - accuracy: 0.9992\n",
      "Epoch 94/100\n",
      "198/198 [==============================] - 1s 5ms/step - loss: 0.0011 - accuracy: 0.9991\n",
      "Epoch 95/100\n",
      "198/198 [==============================] - 1s 5ms/step - loss: 0.0011 - accuracy: 0.9991\n",
      "Epoch 96/100\n",
      "198/198 [==============================] - 1s 5ms/step - loss: 0.0011 - accuracy: 0.9989\n",
      "Epoch 97/100\n",
      "198/198 [==============================] - 1s 5ms/step - loss: 0.0011 - accuracy: 0.9991\n",
      "Epoch 98/100\n",
      "198/198 [==============================] - 1s 5ms/step - loss: 0.0011 - accuracy: 0.9992\n",
      "Epoch 99/100\n",
      "198/198 [==============================] - 1s 5ms/step - loss: 0.0011 - accuracy: 0.9991\n",
      "Epoch 100/100\n",
      "198/198 [==============================] - 1s 5ms/step - loss: 0.0011 - accuracy: 0.9991\n"
     ]
    },
    {
     "data": {
      "text/plain": "<keras.callbacks.History at 0x1f206981520>"
     },
     "execution_count": 50,
     "metadata": {},
     "output_type": "execute_result"
    }
   ],
   "source": [
    "'''Fit model'''\n",
    "ann.fit(X_train, y_train, batch_size=32, epochs=100)"
   ],
   "metadata": {
    "collapsed": false
   }
  },
  {
   "cell_type": "code",
   "execution_count": 76,
   "outputs": [
    {
     "name": "stdout",
     "output_type": "stream",
     "text": [
      "50/50 [==============================] - 0s 2ms/step\n"
     ]
    }
   ],
   "source": [
    "'''Predict test data'''\n",
    "predictions = ann.predict(X_test)\n",
    "predictions=np.rint(predictions)\n"
   ],
   "metadata": {
    "collapsed": false
   }
  },
  {
   "cell_type": "code",
   "execution_count": 77,
   "outputs": [
    {
     "name": "stdout",
     "output_type": "stream",
     "text": [
      "Confusion matrix:\n",
      " [[  53  194]\n",
      " [ 106 1229]]\n",
      "Accuracy score:  0.8103666245259166\n"
     ]
    }
   ],
   "source": [
    "'''Confusion Matrix'''\n",
    "cm = confusion_matrix(y_test, predictions)\n",
    "ac_s = accuracy_score(y_test, predictions)\n",
    "print('Confusion matrix:\\n', cm)\n",
    "print('Accuracy score: ', ac_s)"
   ],
   "metadata": {
    "collapsed": false
   }
  },
  {
   "cell_type": "code",
   "execution_count": 60,
   "outputs": [
    {
     "name": "stdout",
     "output_type": "stream",
     "text": [
      "50/50 [==============================] - 0s 4ms/step\n",
      "[[0.91847354 0.        ]\n",
      " [1.         1.        ]\n",
      " [1.         1.        ]\n",
      " ...\n",
      " [1.         1.        ]\n",
      " [0.01517712 1.        ]\n",
      " [0.99998021 1.        ]]\n"
     ]
    }
   ],
   "source": [
    "predictions = ann.predict(X_test)\n",
    "reshape = np.concatenate((predictions.reshape(len(predictions), 1), y_test.reshape(len(y_test),1)),1)\n",
    "print(reshape)"
   ],
   "metadata": {
    "collapsed": false
   }
  },
  {
   "cell_type": "code",
   "execution_count": 75,
   "outputs": [],
   "source": [],
   "metadata": {
    "collapsed": false
   }
  },
  {
   "cell_type": "code",
   "execution_count": null,
   "outputs": [],
   "source": [],
   "metadata": {
    "collapsed": false
   }
  }
 ],
 "metadata": {
  "kernelspec": {
   "display_name": "Python 3",
   "language": "python",
   "name": "python3"
  },
  "language_info": {
   "codemirror_mode": {
    "name": "ipython",
    "version": 2
   },
   "file_extension": ".py",
   "mimetype": "text/x-python",
   "name": "python",
   "nbconvert_exporter": "python",
   "pygments_lexer": "ipython2",
   "version": "2.7.6"
  }
 },
 "nbformat": 4,
 "nbformat_minor": 0
}
