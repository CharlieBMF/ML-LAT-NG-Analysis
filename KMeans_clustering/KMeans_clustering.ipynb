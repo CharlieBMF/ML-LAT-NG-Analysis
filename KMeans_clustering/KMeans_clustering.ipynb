{
 "cells": [
  {
   "cell_type": "code",
   "execution_count": 40,
   "metadata": {
    "collapsed": true
   },
   "outputs": [],
   "source": [
    "import pandas as pd\n",
    "import matplotlib.pyplot as plt\n",
    "from sklearn.cluster import KMeans"
   ]
  },
  {
   "cell_type": "code",
   "execution_count": 41,
   "outputs": [
    {
     "data": {
      "text/plain": "      DF_PressHeight(mm)  ProgramNo  Output(kW)  Runout(mm)  PointX  PointY  \\\n0                  0.003          2        1.81        0.17   -0.55 -300.44   \n1                  0.010          2        1.81        0.16   -0.56 -300.44   \n2                  0.007          2        1.81        0.09   -0.54 -300.44   \n3                  0.017          2        1.81        0.16   -0.52 -300.44   \n4                  0.023          2        1.81        0.15   -0.57 -300.44   \n...                  ...        ...         ...         ...     ...     ...   \n7903              -0.008          2        1.81        0.08   39.42 -300.20   \n7904              -0.010          2        1.81        0.10   39.42 -300.20   \n7905              -0.003          2        1.81        0.07   39.42 -300.20   \n7906              -0.039          2        1.81        0.09   39.42 -300.20   \n7907              -0.016          2        1.81        0.05   39.42 -300.20   \n\n      Point  BottleLength(mm)  DF_Force(kN)  Pilot_Volt(V)  ...  \\\n0         0             98.01          14.9           13.2  ...   \n1         0             98.05          13.7           13.2  ...   \n2         0             98.05          13.5           13.2  ...   \n3         0             98.04          13.7           13.2  ...   \n4         0             98.02          16.0           13.2  ...   \n...     ...               ...           ...            ...  ...   \n7903      0             98.09          18.1           15.2  ...   \n7904      0             98.03          18.1           14.4  ...   \n7905      0             98.11          17.9           14.0  ...   \n7906      0             98.07          18.0           13.6  ...   \n7907      0             98.10          18.0           13.4  ...   \n\n      Weighton_Cup(g)  Exposureon_Hopper(m)  HID  CID.2  Exposureon_Work(m)  \\\n0               9.494              1.033333   26      4            4.750000   \n1               9.488              1.033333   26      3            4.583333   \n2               9.457              1.033333   26      4            3.500000   \n3               9.488              1.033333   26      4            3.100000   \n4               9.437              1.016667   25      2            3.416667   \n...               ...                   ...  ...    ...                 ...   \n7903            9.582              0.300000   26      2            6.966667   \n7904            9.526              0.233333   28      4            6.966667   \n7905            9.619              0.300000   26      1            6.983333   \n7906            9.616              0.233333   28      3            6.900000   \n7907            9.565              0.300000   26      2            7.033333   \n\n      Weighton_Cup(g).1  Exposureon_Hopper(m).1  HID.1  CID.3  \\\n0                 2.267                1.116667     20      2   \n1                 2.269                0.266667     32      4   \n2                 2.291                1.116667     20      1   \n3                 2.246                0.266667     32      3   \n4                 2.289                1.116667     20      2   \n...                 ...                     ...    ...    ...   \n7903              2.254                2.750000     32      3   \n7904              2.317                0.183333     33      2   \n7905              2.226                2.750000     32      4   \n7906              2.348                0.183333     33      1   \n7907              2.235                2.750000     32      3   \n\n      Exposureon_Work(m).1  \n0                 3.300000  \n1                 3.500000  \n2                 3.566667  \n3                 3.716667  \n4                 3.600000  \n...                    ...  \n7903              5.983333  \n7904              2.366667  \n7905              5.183333  \n7906              5.133333  \n7907              4.950000  \n\n[7908 rows x 95 columns]",
      "text/html": "<div>\n<style scoped>\n    .dataframe tbody tr th:only-of-type {\n        vertical-align: middle;\n    }\n\n    .dataframe tbody tr th {\n        vertical-align: top;\n    }\n\n    .dataframe thead th {\n        text-align: right;\n    }\n</style>\n<table border=\"1\" class=\"dataframe\">\n  <thead>\n    <tr style=\"text-align: right;\">\n      <th></th>\n      <th>DF_PressHeight(mm)</th>\n      <th>ProgramNo</th>\n      <th>Output(kW)</th>\n      <th>Runout(mm)</th>\n      <th>PointX</th>\n      <th>PointY</th>\n      <th>Point</th>\n      <th>BottleLength(mm)</th>\n      <th>DF_Force(kN)</th>\n      <th>Pilot_Volt(V)</th>\n      <th>...</th>\n      <th>Weighton_Cup(g)</th>\n      <th>Exposureon_Hopper(m)</th>\n      <th>HID</th>\n      <th>CID.2</th>\n      <th>Exposureon_Work(m)</th>\n      <th>Weighton_Cup(g).1</th>\n      <th>Exposureon_Hopper(m).1</th>\n      <th>HID.1</th>\n      <th>CID.3</th>\n      <th>Exposureon_Work(m).1</th>\n    </tr>\n  </thead>\n  <tbody>\n    <tr>\n      <th>0</th>\n      <td>0.003</td>\n      <td>2</td>\n      <td>1.81</td>\n      <td>0.17</td>\n      <td>-0.55</td>\n      <td>-300.44</td>\n      <td>0</td>\n      <td>98.01</td>\n      <td>14.9</td>\n      <td>13.2</td>\n      <td>...</td>\n      <td>9.494</td>\n      <td>1.033333</td>\n      <td>26</td>\n      <td>4</td>\n      <td>4.750000</td>\n      <td>2.267</td>\n      <td>1.116667</td>\n      <td>20</td>\n      <td>2</td>\n      <td>3.300000</td>\n    </tr>\n    <tr>\n      <th>1</th>\n      <td>0.010</td>\n      <td>2</td>\n      <td>1.81</td>\n      <td>0.16</td>\n      <td>-0.56</td>\n      <td>-300.44</td>\n      <td>0</td>\n      <td>98.05</td>\n      <td>13.7</td>\n      <td>13.2</td>\n      <td>...</td>\n      <td>9.488</td>\n      <td>1.033333</td>\n      <td>26</td>\n      <td>3</td>\n      <td>4.583333</td>\n      <td>2.269</td>\n      <td>0.266667</td>\n      <td>32</td>\n      <td>4</td>\n      <td>3.500000</td>\n    </tr>\n    <tr>\n      <th>2</th>\n      <td>0.007</td>\n      <td>2</td>\n      <td>1.81</td>\n      <td>0.09</td>\n      <td>-0.54</td>\n      <td>-300.44</td>\n      <td>0</td>\n      <td>98.05</td>\n      <td>13.5</td>\n      <td>13.2</td>\n      <td>...</td>\n      <td>9.457</td>\n      <td>1.033333</td>\n      <td>26</td>\n      <td>4</td>\n      <td>3.500000</td>\n      <td>2.291</td>\n      <td>1.116667</td>\n      <td>20</td>\n      <td>1</td>\n      <td>3.566667</td>\n    </tr>\n    <tr>\n      <th>3</th>\n      <td>0.017</td>\n      <td>2</td>\n      <td>1.81</td>\n      <td>0.16</td>\n      <td>-0.52</td>\n      <td>-300.44</td>\n      <td>0</td>\n      <td>98.04</td>\n      <td>13.7</td>\n      <td>13.2</td>\n      <td>...</td>\n      <td>9.488</td>\n      <td>1.033333</td>\n      <td>26</td>\n      <td>4</td>\n      <td>3.100000</td>\n      <td>2.246</td>\n      <td>0.266667</td>\n      <td>32</td>\n      <td>3</td>\n      <td>3.716667</td>\n    </tr>\n    <tr>\n      <th>4</th>\n      <td>0.023</td>\n      <td>2</td>\n      <td>1.81</td>\n      <td>0.15</td>\n      <td>-0.57</td>\n      <td>-300.44</td>\n      <td>0</td>\n      <td>98.02</td>\n      <td>16.0</td>\n      <td>13.2</td>\n      <td>...</td>\n      <td>9.437</td>\n      <td>1.016667</td>\n      <td>25</td>\n      <td>2</td>\n      <td>3.416667</td>\n      <td>2.289</td>\n      <td>1.116667</td>\n      <td>20</td>\n      <td>2</td>\n      <td>3.600000</td>\n    </tr>\n    <tr>\n      <th>...</th>\n      <td>...</td>\n      <td>...</td>\n      <td>...</td>\n      <td>...</td>\n      <td>...</td>\n      <td>...</td>\n      <td>...</td>\n      <td>...</td>\n      <td>...</td>\n      <td>...</td>\n      <td>...</td>\n      <td>...</td>\n      <td>...</td>\n      <td>...</td>\n      <td>...</td>\n      <td>...</td>\n      <td>...</td>\n      <td>...</td>\n      <td>...</td>\n      <td>...</td>\n      <td>...</td>\n    </tr>\n    <tr>\n      <th>7903</th>\n      <td>-0.008</td>\n      <td>2</td>\n      <td>1.81</td>\n      <td>0.08</td>\n      <td>39.42</td>\n      <td>-300.20</td>\n      <td>0</td>\n      <td>98.09</td>\n      <td>18.1</td>\n      <td>15.2</td>\n      <td>...</td>\n      <td>9.582</td>\n      <td>0.300000</td>\n      <td>26</td>\n      <td>2</td>\n      <td>6.966667</td>\n      <td>2.254</td>\n      <td>2.750000</td>\n      <td>32</td>\n      <td>3</td>\n      <td>5.983333</td>\n    </tr>\n    <tr>\n      <th>7904</th>\n      <td>-0.010</td>\n      <td>2</td>\n      <td>1.81</td>\n      <td>0.10</td>\n      <td>39.42</td>\n      <td>-300.20</td>\n      <td>0</td>\n      <td>98.03</td>\n      <td>18.1</td>\n      <td>14.4</td>\n      <td>...</td>\n      <td>9.526</td>\n      <td>0.233333</td>\n      <td>28</td>\n      <td>4</td>\n      <td>6.966667</td>\n      <td>2.317</td>\n      <td>0.183333</td>\n      <td>33</td>\n      <td>2</td>\n      <td>2.366667</td>\n    </tr>\n    <tr>\n      <th>7905</th>\n      <td>-0.003</td>\n      <td>2</td>\n      <td>1.81</td>\n      <td>0.07</td>\n      <td>39.42</td>\n      <td>-300.20</td>\n      <td>0</td>\n      <td>98.11</td>\n      <td>17.9</td>\n      <td>14.0</td>\n      <td>...</td>\n      <td>9.619</td>\n      <td>0.300000</td>\n      <td>26</td>\n      <td>1</td>\n      <td>6.983333</td>\n      <td>2.226</td>\n      <td>2.750000</td>\n      <td>32</td>\n      <td>4</td>\n      <td>5.183333</td>\n    </tr>\n    <tr>\n      <th>7906</th>\n      <td>-0.039</td>\n      <td>2</td>\n      <td>1.81</td>\n      <td>0.09</td>\n      <td>39.42</td>\n      <td>-300.20</td>\n      <td>0</td>\n      <td>98.07</td>\n      <td>18.0</td>\n      <td>13.6</td>\n      <td>...</td>\n      <td>9.616</td>\n      <td>0.233333</td>\n      <td>28</td>\n      <td>3</td>\n      <td>6.900000</td>\n      <td>2.348</td>\n      <td>0.183333</td>\n      <td>33</td>\n      <td>1</td>\n      <td>5.133333</td>\n    </tr>\n    <tr>\n      <th>7907</th>\n      <td>-0.016</td>\n      <td>2</td>\n      <td>1.81</td>\n      <td>0.05</td>\n      <td>39.42</td>\n      <td>-300.20</td>\n      <td>0</td>\n      <td>98.10</td>\n      <td>18.0</td>\n      <td>13.4</td>\n      <td>...</td>\n      <td>9.565</td>\n      <td>0.300000</td>\n      <td>26</td>\n      <td>2</td>\n      <td>7.033333</td>\n      <td>2.235</td>\n      <td>2.750000</td>\n      <td>32</td>\n      <td>3</td>\n      <td>4.950000</td>\n    </tr>\n  </tbody>\n</table>\n<p>7908 rows × 95 columns</p>\n</div>"
     },
     "execution_count": 41,
     "metadata": {},
     "output_type": "execute_result"
    }
   ],
   "source": [
    "'''DATA LOAD'''\n",
    "df = pd.read_excel('Final_data_binary.xlsx', sheet_name='AIN')\n",
    "X = df.drop('ocena', axis=1)\n",
    "X"
   ],
   "metadata": {
    "collapsed": false
   }
  },
  {
   "cell_type": "code",
   "execution_count": 42,
   "outputs": [],
   "source": [
    "'''Finding best number of clusters'''\n",
    "wcss = []\n",
    "for i in range(1, 11):\n",
    "    kmeans = KMeans(n_clusters=i, init='k-means++', random_state=101)\n",
    "    kmeans.fit(X)\n",
    "    wcss.append(kmeans.inertia_)\n"
   ],
   "metadata": {
    "collapsed": false
   }
  },
  {
   "cell_type": "code",
   "execution_count": 43,
   "outputs": [
    {
     "data": {
      "text/plain": "<Figure size 640x480 with 1 Axes>",
      "image/png": "[encoded data removed]"
     },
     "metadata": {},
     "output_type": "display_data"
    }
   ],
   "source": [
    "'''Plot optimal number of clusters'''\n",
    "plt.plot(range(1, 11), wcss)\n",
    "plt.title('The Elbow Method')\n",
    "plt.xlabel('Number of clusters')\n",
    "plt.ylabel('WCSS')\n",
    "plt.show()"
   ],
   "metadata": {
    "collapsed": false
   }
  },
  {
   "cell_type": "code",
   "execution_count": 44,
   "outputs": [],
   "source": [
    "'''Define with best number of clusters'''\n",
    "kmeans = KMeans(n_clusters=3, init='k-means++', random_state=101)\n",
    "y_kmeans = kmeans.fit_predict(X)"
   ],
   "metadata": {
    "collapsed": false
   }
  },
  {
   "cell_type": "code",
   "execution_count": 45,
   "outputs": [
    {
     "name": "stdout",
     "output_type": "stream",
     "text": [
      "0    7476\n",
      "1     354\n",
      "2      78\n",
      "Name: Cluster, dtype: int64\n"
     ]
    }
   ],
   "source": [
    "X = df\n",
    "X['Cluster']=y_kmeans\n",
    "print(X.Cluster.value_counts())"
   ],
   "metadata": {
    "collapsed": false
   }
  },
  {
   "cell_type": "code",
   "execution_count": 46,
   "outputs": [
    {
     "name": "stdout",
     "output_type": "stream",
     "text": [
      "Cluster  ocena\n",
      "0        1        6323\n",
      "         0        1153\n",
      "1        1         308\n",
      "         0          46\n",
      "2        1          69\n",
      "         0           9\n",
      "Name: ocena, dtype: int64\n"
     ]
    }
   ],
   "source": [
    "'''Group Cluster by OK/NG'''\n",
    "print(X.groupby('Cluster')['ocena'].value_counts())"
   ],
   "metadata": {
    "collapsed": false
   }
  },
  {
   "cell_type": "code",
   "execution_count": 47,
   "outputs": [
    {
     "name": "stdout",
     "output_type": "stream",
     "text": [
      "   Cluster  value ratio\n",
      "0      0.0     0.182350\n",
      "1      1.0     0.149351\n",
      "2      2.0     0.130435\n"
     ]
    },
    {
     "name": "stderr",
     "output_type": "stream",
     "text": [
      "C:\\Users\\kmarcinski\\AppData\\Local\\Temp\\ipykernel_17740\\549078184.py:6: FutureWarning: The frame.append method is deprecated and will be removed from pandas in a future version. Use pandas.concat instead.\n",
      "  cluster_df = cluster_df.append(pd.Series(row), ignore_index=True)\n",
      "C:\\Users\\kmarcinski\\AppData\\Local\\Temp\\ipykernel_17740\\549078184.py:6: FutureWarning: The frame.append method is deprecated and will be removed from pandas in a future version. Use pandas.concat instead.\n",
      "  cluster_df = cluster_df.append(pd.Series(row), ignore_index=True)\n",
      "C:\\Users\\kmarcinski\\AppData\\Local\\Temp\\ipykernel_17740\\549078184.py:6: FutureWarning: The frame.append method is deprecated and will be removed from pandas in a future version. Use pandas.concat instead.\n",
      "  cluster_df = cluster_df.append(pd.Series(row), ignore_index=True)\n"
     ]
    }
   ],
   "source": [
    "'''Count OK/NG ratio for each Cluster'''\n",
    "cluster_df = pd.DataFrame()\n",
    "for i in range(0,3):\n",
    "    value = X.groupby('Cluster')['ocena'].value_counts()[i][0]/X.groupby('Cluster')['ocena'].value_counts()[i][1]\n",
    "    row = {'Cluster': i, 'value ratio': value}\n",
    "    cluster_df = cluster_df.append(pd.Series(row), ignore_index=True)\n",
    "print(cluster_df)"
   ],
   "metadata": {
    "collapsed": false
   }
  },
  {
   "cell_type": "code",
   "execution_count": null,
   "outputs": [],
   "source": [],
   "metadata": {
    "collapsed": false
   }
  }
 ],
 "metadata": {
  "kernelspec": {
   "display_name": "Python 3",
   "language": "python",
   "name": "python3"
  },
  "language_info": {
   "codemirror_mode": {
    "name": "ipython",
    "version": 2
   },
   "file_extension": ".py",
   "mimetype": "text/x-python",
   "name": "python",
   "nbconvert_exporter": "python",
   "pygments_lexer": "ipython2",
   "version": "2.7.6"
  }
 },
 "nbformat": 4,
 "nbformat_minor": 0
}
