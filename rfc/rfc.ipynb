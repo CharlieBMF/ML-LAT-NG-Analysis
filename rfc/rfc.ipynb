{
 "cells": [
  {
   "cell_type": "code",
   "execution_count": 1,
   "metadata": {
    "collapsed": true
   },
   "outputs": [],
   "source": [
    "import pandas as pd\n",
    "from sklearn.model_selection import train_test_split\n",
    "from sklearn.preprocessing import StandardScaler\n",
    "from sklearn.ensemble import RandomForestClassifier\n",
    "from sklearn.metrics import classification_report, confusion_matrix"
   ]
  },
  {
   "cell_type": "code",
   "execution_count": 4,
   "outputs": [
    {
     "name": "stdout",
     "output_type": "stream",
     "text": [
      "[[  21  226]\n",
      " [  44 1291]]\n",
      "\n",
      "\n",
      "              precision    recall  f1-score   support\n",
      "\n",
      "          NG       0.32      0.09      0.13       247\n",
      "          OK       0.85      0.97      0.91      1335\n",
      "\n",
      "    accuracy                           0.83      1582\n",
      "   macro avg       0.59      0.53      0.52      1582\n",
      "weighted avg       0.77      0.83      0.78      1582\n",
      "\n"
     ]
    }
   ],
   "source": [
    "''' RForestClass w/o Scaling n=10'''\n",
    "df = pd.read_excel('Final_data.xlsx', sheet_name='AIN')\n",
    "X = df.drop('ocena', axis=1)\n",
    "y = df['ocena']\n",
    "X_train, X_test, y_train, y_test = train_test_split(X, y, test_size=0.2, random_state=101)\n",
    "rfc = RandomForestClassifier(n_estimators=10, random_state=101)\n",
    "rfc.fit(X_train, y_train)\n",
    "predictions = rfc.predict(X_test)\n",
    "print(confusion_matrix(y_test, predictions))\n",
    "print('\\n')\n",
    "print(classification_report(y_test, predictions))"
   ],
   "metadata": {
    "collapsed": false
   }
  },
  {
   "cell_type": "code",
   "execution_count": 5,
   "outputs": [
    {
     "name": "stdout",
     "output_type": "stream",
     "text": [
      "[[   7  240]\n",
      " [   4 1331]]\n",
      "\n",
      "\n",
      "              precision    recall  f1-score   support\n",
      "\n",
      "          NG       0.64      0.03      0.05       247\n",
      "          OK       0.85      1.00      0.92      1335\n",
      "\n",
      "    accuracy                           0.85      1582\n",
      "   macro avg       0.74      0.51      0.49      1582\n",
      "weighted avg       0.81      0.85      0.78      1582\n",
      "\n"
     ]
    }
   ],
   "source": [
    "''' RForestClass w/o Scaling n=1000'''\n",
    "df = pd.read_excel('Final_data.xlsx', sheet_name='AIN')\n",
    "X = df.drop('ocena', axis=1)\n",
    "y = df['ocena']\n",
    "X_train, X_test, y_train, y_test = train_test_split(X, y, test_size=0.2, random_state=101)\n",
    "rfc = RandomForestClassifier(n_estimators=1000, random_state=101)\n",
    "rfc.fit(X_train, y_train)\n",
    "predictions = rfc.predict(X_test)\n",
    "print(confusion_matrix(y_test, predictions))\n",
    "print('\\n')\n",
    "print(classification_report(y_test, predictions))"
   ],
   "metadata": {
    "collapsed": false
   }
  },
  {
   "cell_type": "code",
   "execution_count": 6,
   "outputs": [
    {
     "name": "stdout",
     "output_type": "stream",
     "text": [
      "[[   7  240]\n",
      " [   4 1331]]\n",
      "\n",
      "\n",
      "              precision    recall  f1-score   support\n",
      "\n",
      "          NG       0.64      0.03      0.05       247\n",
      "          OK       0.85      1.00      0.92      1335\n",
      "\n",
      "    accuracy                           0.85      1582\n",
      "   macro avg       0.74      0.51      0.49      1582\n",
      "weighted avg       0.81      0.85      0.78      1582\n",
      "\n"
     ]
    }
   ],
   "source": [
    "''' RForestClass w/o Scaling n=10000'''\n",
    "df = pd.read_excel('Final_data.xlsx', sheet_name='AIN')\n",
    "X = df.drop('ocena', axis=1)\n",
    "y = df['ocena']\n",
    "X_train, X_test, y_train, y_test = train_test_split(X, y, test_size=0.2, random_state=101)\n",
    "rfc = RandomForestClassifier(n_estimators=1000, random_state=101)\n",
    "rfc.fit(X_train, y_train)\n",
    "predictions = rfc.predict(X_test)\n",
    "print(confusion_matrix(y_test, predictions))\n",
    "print('\\n')\n",
    "print(classification_report(y_test, predictions))"
   ],
   "metadata": {
    "collapsed": false
   }
  },
  {
   "cell_type": "code",
   "execution_count": 7,
   "outputs": [
    {
     "name": "stdout",
     "output_type": "stream",
     "text": [
      "[[   7  240]\n",
      " [   5 1330]]\n",
      "\n",
      "\n",
      "              precision    recall  f1-score   support\n",
      "\n",
      "          NG       0.58      0.03      0.05       247\n",
      "          OK       0.85      1.00      0.92      1335\n",
      "\n",
      "    accuracy                           0.85      1582\n",
      "   macro avg       0.72      0.51      0.48      1582\n",
      "weighted avg       0.81      0.85      0.78      1582\n",
      "\n"
     ]
    }
   ],
   "source": [
    "''' RForestClass w Scaling n=100 '''\n",
    "df = pd.read_excel('Final_data.xlsx', sheet_name='AIN')\n",
    "X = df.drop('ocena', axis=1)\n",
    "y = df['ocena']\n",
    "X_train, X_test, y_train, y_test = train_test_split(X, y, test_size=0.2, random_state=101)\n",
    "sc_X = StandardScaler()\n",
    "X_train = sc_X.fit_transform(X_train)\n",
    "X_test = sc_X.transform(X_test)\n",
    "rfc = RandomForestClassifier(n_estimators=100, random_state=101)\n",
    "rfc.fit(X_train, y_train)\n",
    "predictions = rfc.predict(X_test)\n",
    "print(confusion_matrix(y_test, predictions))\n",
    "print('\\n')\n",
    "print(classification_report(y_test, predictions))"
   ],
   "metadata": {
    "collapsed": false
   }
  },
  {
   "cell_type": "code",
   "execution_count": 8,
   "outputs": [
    {
     "name": "stdout",
     "output_type": "stream",
     "text": [
      "[[   7  240]\n",
      " [   4 1331]]\n",
      "\n",
      "\n",
      "              precision    recall  f1-score   support\n",
      "\n",
      "          NG       0.64      0.03      0.05       247\n",
      "          OK       0.85      1.00      0.92      1335\n",
      "\n",
      "    accuracy                           0.85      1582\n",
      "   macro avg       0.74      0.51      0.49      1582\n",
      "weighted avg       0.81      0.85      0.78      1582\n",
      "\n"
     ]
    }
   ],
   "source": [
    "''' RForestClass w Scaling n=1000 '''\n",
    "df = pd.read_excel('Final_data.xlsx', sheet_name='AIN')\n",
    "X = df.drop('ocena', axis=1)\n",
    "y = df['ocena']\n",
    "X_train, X_test, y_train, y_test = train_test_split(X, y, test_size=0.2, random_state=101)\n",
    "sc_X = StandardScaler()\n",
    "X_train = sc_X.fit_transform(X_train)\n",
    "X_test = sc_X.transform(X_test)\n",
    "rfc = RandomForestClassifier(n_estimators=1000, random_state=101)\n",
    "rfc.fit(X_train, y_train)\n",
    "predictions = rfc.predict(X_test)\n",
    "print(confusion_matrix(y_test, predictions))\n",
    "print('\\n')\n",
    "print(classification_report(y_test, predictions))"
   ],
   "metadata": {
    "collapsed": false
   }
  },
  {
   "cell_type": "code",
   "execution_count": 9,
   "outputs": [
    {
     "name": "stdout",
     "output_type": "stream",
     "text": [
      "[[   7  240]\n",
      " [   2 1333]]\n",
      "\n",
      "\n",
      "              precision    recall  f1-score   support\n",
      "\n",
      "          NG       0.78      0.03      0.05       247\n",
      "          OK       0.85      1.00      0.92      1335\n",
      "\n",
      "    accuracy                           0.85      1582\n",
      "   macro avg       0.81      0.51      0.49      1582\n",
      "weighted avg       0.84      0.85      0.78      1582\n",
      "\n"
     ]
    }
   ],
   "source": [
    "'''RForestClass - entropy n=100'''\n",
    "df = pd.read_excel('Final_data.xlsx', sheet_name='AIN')\n",
    "X = df.drop('ocena', axis=1)\n",
    "y = df['ocena']\n",
    "X_train, X_test, y_train, y_test = train_test_split(X, y, test_size=0.2, random_state=101)\n",
    "rfc = RandomForestClassifier(n_estimators=100, criterion='entropy', random_state=101)\n",
    "rfc.fit(X_train, y_train)\n",
    "predictions = rfc.predict(X_test)\n",
    "print(confusion_matrix(y_test, predictions))\n",
    "print('\\n')\n",
    "print(classification_report(y_test, predictions))"
   ],
   "metadata": {
    "collapsed": false
   }
  },
  {
   "cell_type": "code",
   "execution_count": 10,
   "outputs": [
    {
     "name": "stdout",
     "output_type": "stream",
     "text": [
      "[[   5  242]\n",
      " [   3 1332]]\n",
      "\n",
      "\n",
      "              precision    recall  f1-score   support\n",
      "\n",
      "          NG       0.62      0.02      0.04       247\n",
      "          OK       0.85      1.00      0.92      1335\n",
      "\n",
      "    accuracy                           0.85      1582\n",
      "   macro avg       0.74      0.51      0.48      1582\n",
      "weighted avg       0.81      0.85      0.78      1582\n",
      "\n"
     ]
    }
   ],
   "source": [
    "'''RForestClass - entropy n=1000'''\n",
    "df = pd.read_excel('Final_data.xlsx', sheet_name='AIN')\n",
    "X = df.drop('ocena', axis=1)\n",
    "y = df['ocena']\n",
    "X_train, X_test, y_train, y_test = train_test_split(X, y, test_size=0.2, random_state=101)\n",
    "rfc = RandomForestClassifier(n_estimators=1000, criterion='entropy', random_state=101)\n",
    "rfc.fit(X_train, y_train)\n",
    "predictions = rfc.predict(X_test)\n",
    "print(confusion_matrix(y_test, predictions))\n",
    "print('\\n')\n",
    "print(classification_report(y_test, predictions))"
   ],
   "metadata": {
    "collapsed": false
   }
  },
  {
   "cell_type": "code",
   "execution_count": null,
   "outputs": [],
   "source": [],
   "metadata": {
    "collapsed": false
   }
  }
 ],
 "metadata": {
  "kernelspec": {
   "display_name": "Python 3",
   "language": "python",
   "name": "python3"
  },
  "language_info": {
   "codemirror_mode": {
    "name": "ipython",
    "version": 2
   },
   "file_extension": ".py",
   "mimetype": "text/x-python",
   "name": "python",
   "nbconvert_exporter": "python",
   "pygments_lexer": "ipython2",
   "version": "2.7.6"
  }
 },
 "nbformat": 4,
 "nbformat_minor": 0
}
